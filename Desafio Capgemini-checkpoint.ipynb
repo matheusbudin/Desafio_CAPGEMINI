{
 "cells": [
  {
   "cell_type": "markdown",
   "id": "766fbfa7",
   "metadata": {},
   "source": [
    "# Academia CAPGEMINI - Desafios"
   ]
  },
  {
   "cell_type": "markdown",
   "id": "d35c5a03",
   "metadata": {},
   "source": [
    "# Exercício 1 - Print a pattern given a number os lines."
   ]
  },
  {
   "cell_type": "code",
   "execution_count": 1,
   "id": "cea7db9c",
   "metadata": {},
   "outputs": [
    {
     "name": "stdout",
     "output_type": "stream",
     "text": [
      "Enter number of rows:6\n",
      "      *\n",
      "     **\n",
      "    ***\n",
      "   ****\n",
      "  *****\n",
      " ******\n"
     ]
    }
   ],
   "source": [
    "#Ex1 - CAPGEMINI (Python 3.9.7)\n",
    "\n",
    "# Python Program to print star ladder\n",
    "\n",
    "\n",
    "# define a function to print the ladder shape\n",
    "def ladder_pattern3(n):\n",
    "    # Use outter for loop for rows\n",
    "    spaces = n\n",
    "    for i in range(1, n + 1):\n",
    "\n",
    "        # Use inner for loop 1  for spaces before stars\n",
    "\n",
    "        for j in range(1, spaces + 1):\n",
    "            # print spaces\n",
    "            print(\" \", end=\"\")\n",
    "        # Use inner for loop 2  for columns / stars\n",
    "\n",
    "        for k in range(1, i + 1):\n",
    "            # print stars in each row\n",
    "            print(\"*\", end=\"\")\n",
    "\n",
    "        # End of line after each row\n",
    "        print()\n",
    "        # decrease spaces\n",
    "        spaces = spaces - 1\n",
    "\n",
    "\n",
    "n = int(input(\"Enter number of rows:\"))\n",
    "ladder_pattern3(n)\n",
    "        \n"
   ]
  },
  {
   "cell_type": "markdown",
   "id": "5b0eda78",
   "metadata": {},
   "source": [
    "# Ex2 - Password Check - If its safe "
   ]
  },
  {
   "cell_type": "code",
   "execution_count": 2,
   "id": "f330d6dd",
   "metadata": {},
   "outputs": [
    {
     "name": "stdout",
     "output_type": "stream",
     "text": [
      "Enter your password, we will check if its safe, and return if you need to add more features to make it safe: \n",
      "Ya3\n",
      "3\n"
     ]
    }
   ],
   "source": [
    "#Ex2 - CAPGEMINI (Python 3.9.7)\n",
    "\n",
    "# Python - program to find minimum number\n",
    "# of characters required to be added to make \n",
    "# a password strong\n",
    "\n",
    "import re\n",
    " \n",
    "# Function to count minimum number of characters that has to be included to make a password strong\n",
    "\n",
    "def countCharacters(password):\n",
    " \n",
    "    count = 0\n",
    " \n",
    "    # Create the patterns to search digit, upper Case, lower case and special chars\n",
    "    digit = re.compile(\"(\\\\d)\")\n",
    "    upper = re.compile(\"([A-Z])\")\n",
    "    lower = re.compile(\"([a-z])\")\n",
    "    spChar = re.compile(\"(\\\\W)\")\n",
    " \n",
    "    # Search the above patterns\n",
    " \n",
    "    # Checks if theres no digits on the string\n",
    "    if(not re.search(digit, password)):\n",
    "        count += 1\n",
    " \n",
    "    # Checks if theres no Upper cases on the string\n",
    "    \n",
    "    if(not re.search(upper, password)):\n",
    "        count += 1\n",
    " \n",
    "    # Checks if theres no lower cases on the string\n",
    "   \n",
    "    if(not re.search(lower, password)):\n",
    "        count += 1\n",
    " \n",
    "   #Checks if theres no special characters on the string\n",
    "    if(not re.search(spChar, password)):\n",
    "        count += 1\n",
    " \n",
    "    #Checks if the password lenght matches the minimum of 6 characters\n",
    "    if((count +\n",
    "        len(password)) < 6):\n",
    "        count = count + 6 - (count + len(password))\n",
    " \n",
    "    return count\n",
    "\n",
    "# Test the user input\n",
    "password_user = input(\"Enter your password, we will check if its safe, and return if you need to add more features to make it safe: \\n\")\n",
    "print(countCharacters(password_user))\n",
    "      "
   ]
  },
  {
   "cell_type": "markdown",
   "id": "e56675f4",
   "metadata": {},
   "source": [
    "# Ex3 - Checks how many Anagrams for an user input"
   ]
  },
  {
   "cell_type": "code",
   "execution_count": 3,
   "id": "2aa2c841",
   "metadata": {},
   "outputs": [
    {
     "name": "stdout",
     "output_type": "stream",
     "text": [
      "Enter the word, and we will check how many anagrams we have: \n",
      "ana\n",
      "2\n"
     ]
    }
   ],
   "source": [
    "# Ex3 - CAPGEMINI (Python 3.9.7)\n",
    "#Python3 program to count total anagram for any string\n",
    "def AnagramCount(s):\n",
    "      \n",
    "    # Returns total number of anagram\n",
    "    #Of x, the user input\n",
    "    n = len(x)\n",
    "    mp = dict()\n",
    "      \n",
    "    # loop for length of substring\n",
    "    for i in range(n):\n",
    "        sub_string = ''\n",
    "        for j in range(i, n):\n",
    "            sub_string = ''.join(sorted(sub_string + s[j]))\n",
    "            mp[sub_string] = mp.get(sub_string, 0)\n",
    "              \n",
    "            # increase count corresponding\n",
    "            # to this dict array\n",
    "            mp[sub_string] += 1\n",
    "  \n",
    "    ans = 0 #total of anagrams\n",
    "      \n",
    "    # loop over all different dictionary \n",
    "    # items and aggregate substring count\n",
    "    for k, v in mp.items():\n",
    "        ans += (v*(v-1))//2\n",
    "    return ans\n",
    "  \n",
    "# Driver Code\n",
    "x = input(\"Enter the word, and we will check how many anagrams we have: \\n\")\n",
    "print(AnagramCount(x))\n",
    "  "
   ]
  }
 ],
 "metadata": {
  "kernelspec": {
   "display_name": "Python 3 (ipykernel)",
   "language": "python",
   "name": "python3"
  },
  "language_info": {
   "codemirror_mode": {
    "name": "ipython",
    "version": 3
   },
   "file_extension": ".py",
   "mimetype": "text/x-python",
   "name": "python",
   "nbconvert_exporter": "python",
   "pygments_lexer": "ipython3",
   "version": "3.9.7"
  }
 },
 "nbformat": 4,
 "nbformat_minor": 5
}
